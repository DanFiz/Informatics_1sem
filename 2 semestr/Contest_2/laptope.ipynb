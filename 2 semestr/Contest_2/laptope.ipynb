{
 "cells": [
  {
   "cell_type": "code",
   "execution_count": 1,
   "metadata": {},
   "outputs": [
    {
     "name": "stdout",
     "output_type": "stream",
     "text": [
      "[1, 2, 3, 4]\n"
     ]
    }
   ],
   "source": [
    "l1 = [1,2]\n",
    "l2 = [3,4]\n",
    "print([*l1, *l2])"
   ]
  },
  {
   "cell_type": "code",
   "execution_count": 2,
   "metadata": {},
   "outputs": [
    {
     "name": "stdout",
     "output_type": "stream",
     "text": [
      "inf\n",
      "inf\n"
     ]
    }
   ],
   "source": [
    "print(float('inf'))\n",
    "print(float('infinity'))"
   ]
  },
  {
   "cell_type": "code",
   "execution_count": 3,
   "metadata": {},
   "outputs": [
    {
     "name": "stdout",
     "output_type": "stream",
     "text": [
      "[1, 2, 3]\n"
     ]
    }
   ],
   "source": [
    "coord = [1,2,3,4]\n",
    "print(coord[:coord[2]])"
   ]
  },
  {
   "cell_type": "code",
   "execution_count": 1,
   "metadata": {},
   "outputs": [
    {
     "ename": "ValueError",
     "evalue": "invalid literal for int() with base 10: ''",
     "output_type": "error",
     "traceback": [
      "\u001b[1;31m---------------------------------------------------------------------------\u001b[0m",
      "\u001b[1;31mValueError\u001b[0m                                Traceback (most recent call last)",
      "Cell \u001b[1;32mIn[1], line 8\u001b[0m\n\u001b[0;32m      6\u001b[0m         res_matrix\u001b[38;5;241m.\u001b[39mappend(line)\n\u001b[0;32m      7\u001b[0m     \u001b[38;5;28;01mreturn\u001b[39;00m res_matrix\n\u001b[1;32m----> 8\u001b[0m \u001b[38;5;28mprint\u001b[39m(\u001b[43mread_graph_as_neigh_matrix_w\u001b[49m\u001b[43m(\u001b[49m\u001b[43m)\u001b[49m)\n",
      "Cell \u001b[1;32mIn[1], line 2\u001b[0m, in \u001b[0;36mread_graph_as_neigh_matrix_w\u001b[1;34m()\u001b[0m\n\u001b[0;32m      1\u001b[0m \u001b[38;5;28;01mdef\u001b[39;00m \u001b[38;5;21mread_graph_as_neigh_matrix_w\u001b[39m():\n\u001b[1;32m----> 2\u001b[0m     n \u001b[38;5;241m=\u001b[39m \u001b[38;5;28;43mint\u001b[39;49m\u001b[43m(\u001b[49m\u001b[38;5;28;43minput\u001b[39;49m\u001b[43m(\u001b[49m\u001b[43m)\u001b[49m\u001b[43m)\u001b[49m\n\u001b[0;32m      3\u001b[0m     res_matrix \u001b[38;5;241m=\u001b[39m []\n\u001b[0;32m      4\u001b[0m     \u001b[38;5;28;01mfor\u001b[39;00m i \u001b[38;5;129;01min\u001b[39;00m \u001b[38;5;28mrange\u001b[39m(n):\n",
      "\u001b[1;31mValueError\u001b[0m: invalid literal for int() with base 10: ''"
     ]
    }
   ],
   "source": [
    "def read_graph_as_neigh_matrix_w():\n",
    "    n = int(input())\n",
    "    res_matrix = []\n",
    "    for i in range(n):\n",
    "        line = list(map(int, input().split('')))\n",
    "        res_matrix.append(line)\n",
    "    return res_matrix\n",
    "\n",
    "\n"
   ]
  },
  {
   "cell_type": "code",
   "execution_count": 4,
   "metadata": {},
   "outputs": [
    {
     "name": "stdout",
     "output_type": "stream",
     "text": [
      "0 0 0 0 0\n",
      "0 0 0 0 0\n",
      "0 0 0 0 0\n",
      "0 0 0 0 0\n",
      "0 0 0 0 0\n"
     ]
    }
   ],
   "source": [
    "def read_graph_as_neigh_matrix_w():\n",
    "    r, c, n = map(int, input().split())\n",
    "    cuts_list = list(map(int, input().split()))\n",
    "    cuts = set()\n",
    "    for i in range(len(cuts_list)):\n",
    "        if i%2 == 1:\n",
    "            cuts.add((cuts_list[i-1]+1, cuts_list[i]+1))\n",
    "    m = max(r+2, c + 2)\n",
    "    res_matrix = [[0 for i in range(m)] for j in range(m)]\n",
    "    for i in range(m):\n",
    "        for j in range(m):\n",
    "            if (i == 0) or (j == 0) or (i == m-1) or (j == m-1):\n",
    "                if ((i, j) != (0, 0)) and ((i, j) != (m-1, m-1)) and ((i, j) != (0, m-1)) and ((i, j) != (m-1, 0)):\n",
    "                    res_matrix[i][j] = 1\n",
    "            elif ((i, j) not in cuts) and (i != 0) and (i < r+1) and (j != 0) and (j < c+1):\n",
    "                res_matrix[i][j] = 1\n",
    "    \n",
    "    return res_matrix, r, c\n",
    "\n",
    "def print_matrix_w(matrix):\n",
    "    for line in matrix:\n",
    "        print(*line)\n",
    "print_matrix_w(read_graph_as_neigh_matrix_w())"
   ]
  },
  {
   "cell_type": "code",
   "execution_count": null,
   "metadata": {},
   "outputs": [],
   "source": []
  }
 ],
 "metadata": {
  "kernelspec": {
   "display_name": "Python 3",
   "language": "python",
   "name": "python3"
  },
  "language_info": {
   "codemirror_mode": {
    "name": "ipython",
    "version": 3
   },
   "file_extension": ".py",
   "mimetype": "text/x-python",
   "name": "python",
   "nbconvert_exporter": "python",
   "pygments_lexer": "ipython3",
   "version": "3.12.1"
  }
 },
 "nbformat": 4,
 "nbformat_minor": 2
}
