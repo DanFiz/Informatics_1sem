{
 "cells": [
  {
   "cell_type": "code",
   "execution_count": null,
   "metadata": {},
   "outputs": [],
   "source": [
    "class FenwickTree:\n",
    "    def __init__(self, n):\n",
    "        self.n = n\n",
    "        self.bit = [0] * (n + 1)\n",
    "    \n",
    "    def update(self, i, delta):\n",
    "        i += 1\n",
    "        while i <= self.n:\n",
    "            self.bit[i] += delta\n",
    "            i += i & -i\n",
    "    \n",
    "    def query(self, i):\n",
    "        i += 1\n",
    "        result = 0\n",
    "        while i > 0:\n",
    "            result += self.bit[i]\n",
    "            i -= i & -i\n",
    "        return result\n",
    "\n",
    "    def range_query(self, left, right):\n",
    "        return self.query(right) - self.query(left - 1)\n",
    "    \n",
    "# Пример использования\n",
    "arr = [1, 3, 5, 7, 9, 11]\n",
    "\n",
    "# Создание дерева Фенрика и инициализация его значениями из массива\n",
    "ft = FenwickTree(len(arr))\n",
    "for i in range(len(arr)):\n",
    "    ft.update(i, arr[i])\n",
    "\n",
    "print(ft.query(2))  # Вывод: 9\n",
    "print(ft.range_query(1, 4))  # Вывод: 24"
   ]
  }
 ],
 "metadata": {
  "language_info": {
   "name": "python"
  }
 },
 "nbformat": 4,
 "nbformat_minor": 2
}
