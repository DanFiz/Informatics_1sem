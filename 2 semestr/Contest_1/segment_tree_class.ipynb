{
 "cells": [
  {
   "cell_type": "code",
   "execution_count": null,
   "metadata": {},
   "outputs": [],
   "source": [
    "class SegmentTree:\n",
    "\tdef __init__(self, array):\n",
    "\t\tself.size = len(array)\n",
    "\t\tself.tree = [0] * (4 * self.size)\n",
    "\t\tself.build_tree(array, 0, 0, self.size - 1)\n",
    "\n",
    "\tdef build_tree(self, array, tree_index, left, right):\n",
    "\t\tif left == right:\n",
    "\t\t\tself.tree[tree_index] = array[left]\n",
    "\t\t\treturn\n",
    "\t\tmid = (left + right) // 2\n",
    "\t\tself.build_tree(array, 2 * tree_index + 1, left, mid)\n",
    "\t\tself.build_tree(array, 2 * tree_index + 2, mid + 1, right)\n",
    "\t\tself.tree[tree_index] = min(self.tree[2 * tree_index + 1], self.tree[2 * tree_index + 2])\n",
    "\n",
    "\tdef query(self, tree_index, left, right, query_left, query_right):\n",
    "\t\tif query_left <= left and right <= query_right:\n",
    "\t\t\treturn self.tree[tree_index]\n",
    "\t\tmid = (left + right) // 2\n",
    "\t\tmin_value = float('inf')\n",
    "\t\tif query_left <= mid:\n",
    "\t\t\tmin_value = min(min_value, self.query(2 * tree_index + 1, left, mid, query_left, query_right))\n",
    "\t\tif query_right > mid:\n",
    "\t\t\tmin_value = min(min_value, self.query(2 * tree_index + 2, mid + 1, right, query_left, query_right))\n",
    "\t\treturn min_value\n",
    "\n",
    "\tdef query_range(self, left, right):\n",
    "\t\treturn self.query(0, 0, self.size - 1, left, right)\n",
    "\n",
    "\n",
    "if __name__ == '__main__':\n",
    "\tarray = [1, 3, 2, 5, 4, 6]\n",
    "\tst = SegmentTree(array)\n",
    "\tprint(st.query_range(1, 5)) # 2\n"
   ]
  }
 ],
 "metadata": {
  "language_info": {
   "name": "python"
  }
 },
 "nbformat": 4,
 "nbformat_minor": 2
}
