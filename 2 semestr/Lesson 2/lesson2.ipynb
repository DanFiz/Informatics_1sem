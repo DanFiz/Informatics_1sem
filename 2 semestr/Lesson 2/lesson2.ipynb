{
 "cells": [
  {
   "cell_type": "code",
   "execution_count": 98,
   "metadata": {},
   "outputs": [],
   "source": [
    "import numpy as np\n",
    "class SumTree:\n",
    "    def __init__(self,data: list):\n",
    "        ln = len(data)\n",
    "        lb = np.log2(ln)\n",
    "        if lb == int(lb):\n",
    "            self.data = data\n",
    "        else:\n",
    "            self.data = data\n",
    "            lb = int(lb)+1\n",
    "            for i in range(ln, 2**lb):\n",
    "                self.data.append(0)\n",
    "        self.tree = [0 for i in range(len(self.data)-1)]+self.data\n",
    "        self.calc_tree()\n",
    "    def calc_tree(self) -> None:\n",
    "        for i in range(len(self.tree)+1,2,-2):\n",
    "            s1 = self.tree[i-2]\n",
    "            s2 = self.tree[i-3]\n",
    "            sm = s1 + s2\n",
    "            self.tree[(i-4)//2] = sm\n",
    "def Sum(tree, l:int, r:int):\n",
    "    def tree_sum( l:int,r:int, tl = 0, tr = len(tree.data) - 1): #len(self.data) - 1\n",
    "        root = tree.tree[0]\n",
    "        #left from root - [0, (len(self.data))//2]\n",
    "        #right from root - [(len(self.data))//2, len(self.data)]\n",
    "        sum = 0\n",
    "        if l <= tl and r >= tr:\n",
    "           index1= (len(tree.data)-1) + tr\n",
    "           index2 = (len (tree.data)-1) + tl+1\n",
    "           while index1 != index2:\n",
    "               index1 = max((index1 - 2)//2, 0)\n",
    "               index2 = max((index2 - 2)//2, 0)\n",
    "           return tree.tree[index1]\n",
    "        if tl == tr:\n",
    "            return tree.data[tm]\n",
    "        \n",
    "        tm = (tl + tr+1)//2\n",
    "        go_left = l < tm\n",
    "        go_right = r >= tm\n",
    "\n",
    "        if go_left:\n",
    "            sum += tree_sum( l,r, tl = tl, tr = tm - 1)\n",
    "        if go_right:\n",
    "            sum += tree_sum( tm,r, tl = tm, tr = tr)\n",
    "        return sum\n",
    "    return tree_sum(l,r)\n",
    "    "
   ]
  },
  {
   "cell_type": "code",
   "execution_count": 99,
   "metadata": {},
   "outputs": [
    {
     "name": "stdout",
     "output_type": "stream",
     "text": [
      "[29, 10, 19, 3, 7, 11, 8, 1, 2, 3, 4, 5, 6, 8, 0]\n"
     ]
    }
   ],
   "source": [
    "tree = SumTree([1,2,3,4,5,6,8])\n",
    "print(tree.tree)"
   ]
  },
  {
   "cell_type": "code",
   "execution_count": 100,
   "metadata": {},
   "outputs": [
    {
     "name": "stdout",
     "output_type": "stream",
     "text": [
      "29\n"
     ]
    },
    {
     "ename": "",
     "evalue": "",
     "output_type": "error",
     "traceback": [
      "\u001b[1;31mThe Kernel crashed while executing code in the current cell or a previous cell. \n",
      "\u001b[1;31mPlease review the code in the cell(s) to identify a possible cause of the failure. \n",
      "\u001b[1;31mClick <a href='https://aka.ms/vscodeJupyterKernelCrash'>here</a> for more info. \n",
      "\u001b[1;31mView Jupyter <a href='command:jupyter.viewOutput'>log</a> for further details."
     ]
    }
   ],
   "source": [
    "\n",
    "print(Sum(tree,0,7))"
   ]
  }
 ],
 "metadata": {
  "kernelspec": {
   "display_name": "Python 3",
   "language": "python",
   "name": "python3"
  },
  "language_info": {
   "codemirror_mode": {
    "name": "ipython",
    "version": 3
   },
   "file_extension": ".py",
   "mimetype": "text/x-python",
   "name": "python",
   "nbconvert_exporter": "python",
   "pygments_lexer": "ipython3",
   "version": "3.12.1"
  }
 },
 "nbformat": 4,
 "nbformat_minor": 2
}
