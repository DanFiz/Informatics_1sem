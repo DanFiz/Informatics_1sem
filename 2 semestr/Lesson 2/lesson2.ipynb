{
 "cells": [
  {
   "cell_type": "code",
   "execution_count": 26,
   "metadata": {},
   "outputs": [],
   "source": [
    "import numpy as np\n",
    "class SumTree:\n",
    "    def __init__(self,data: list):\n",
    "        ln = len(data)\n",
    "        lb = np.log2(ln)\n",
    "        if lb == int(lb):\n",
    "            self.data = data\n",
    "        else:\n",
    "            self.data = data\n",
    "            lb = int(lb)+1\n",
    "            for i in range(ln, 2**lb):\n",
    "                self.data.append(0)\n",
    "        self.tree = [0 for i in range(len(self.data)-1)]+self.data\n",
    "        self.calc_tree()\n",
    "    def calc_tree(self) -> None:\n",
    "        for i in range(len(self.tree)+1,2,-2):\n",
    "            s1 = self.tree[i-2]\n",
    "            s2 = self.tree[i-3]\n",
    "            sm = s1 + s2\n",
    "            self.tree[(i-4)//2] = sm\n",
    "def Sum(tree, l:int, r:int):\n",
    "    def tree_sum( l:int,r:int, tl = 0, tr = len(tree.data) - 1): #len(self.data) - 1\n",
    "        root = tree.tree[0]\n",
    "        #left from root - [0, (len(self.data))//2]\n",
    "        #right from root - [(len(self.data))//2, len(self.data)]\n",
    "        sum = 0\n",
    "        if l <= tl and r >= tr:\n",
    "           index1= (len(tree.data)-1) + tr\n",
    "           index2 = (len (tree.data)-1) + tl+1\n",
    "           while index1 != index2:\n",
    "               index1 = max((index1 - 2)//2, 0)\n",
    "               index2 = max((index2 - 2)//2, 0)\n",
    "           return tree.tree[index1]\n",
    "        if tl == tr:\n",
    "            return tree.data[tm]\n",
    "        \n",
    "        tm = (tl + tr+1)//2\n",
    "        go_left = l < tm\n",
    "        go_right = r >= tm\n",
    "\n",
    "        if go_left:\n",
    "            sum += tree_sum( l,r, tl = tl, tr = tm - 1)\n",
    "        if go_right:\n",
    "            sum += tree_sum( tm,r, tl = tm, tr = tr)\n",
    "        return sum\n",
    "    return tree_sum(l,r)\n",
    "    "
   ]
  },
  {
   "cell_type": "code",
   "execution_count": 27,
   "metadata": {},
   "outputs": [
    {
     "name": "stdout",
     "output_type": "stream",
     "text": [
      "[29, 10, 19, 3, 7, 11, 8, 1, 2, 3, 4, 5, 6, 8, 0]\n"
     ]
    }
   ],
   "source": [
    "tree = SumTree([1,2,3,4,5,6,8])\n",
    "print(tree.tree)"
   ]
  },
  {
   "cell_type": "code",
   "execution_count": 28,
   "metadata": {},
   "outputs": [
    {
     "name": "stdout",
     "output_type": "stream",
     "text": [
      "29\n"
     ]
    }
   ],
   "source": [
    "\n",
    "print(Sum(tree,0,7))"
   ]
  },
  {
   "cell_type": "code",
   "execution_count": 29,
   "metadata": {},
   "outputs": [],
   "source": [
    "class SegmentTree:\n",
    "\tdef __init__(self, array):\n",
    "\t\tself.size = len(array)\n",
    "\t\tself.tree = [0] * (4 * self.size)\n",
    "\t\tself.build_tree(array, 0, 0, self.size - 1)\n",
    "\n",
    "\tdef build_tree(self, array, tree_index, left, right):\n",
    "\t\tif left == right:\n",
    "\t\t\tself.tree[tree_index] = array[left]\n",
    "\t\t\treturn\n",
    "\t\tmid = (left + right) // 2\n",
    "\t\tself.build_tree(array, 2 * tree_index + 1, left, mid)\n",
    "\t\tself.build_tree(array, 2 * tree_index + 2, mid + 1, right)\n",
    "\t\tself.tree[tree_index] = min(self.tree[2 * tree_index + 1], self.tree[2 * tree_index + 2])\n",
    "\n",
    "\tdef query(self, tree_index, left, right, query_left, query_right):\n",
    "\t\tif query_left <= left and right <= query_right:\n",
    "\t\t\treturn self.tree[tree_index]\n",
    "\t\tmid = (left + right) // 2\n",
    "\t\tmin_value = float('inf')\n",
    "\t\tif query_left <= mid:\n",
    "\t\t\tmin_value = min(min_value, self.query(2 * tree_index + 1, left, mid, query_left, query_right))\n",
    "\t\tif query_right > mid:\n",
    "\t\t\tmin_value = min(min_value, self.query(2 * tree_index + 2, mid + 1, right, query_left, query_right))\n",
    "\t\treturn min_value\n",
    "\n",
    "\tdef query_range(self, left, right):\n",
    "\t\treturn self.query(0, 0, self.size - 1, left, right)\n"
   ]
  },
  {
   "cell_type": "code",
   "execution_count": 30,
   "metadata": {},
   "outputs": [
    {
     "name": "stdout",
     "output_type": "stream",
     "text": [
      "Подсчет минимума на отрезке массива с помощью дерева отрезков, \n",
      " ввод индексов диапазона (оба включительно)\n",
      "2\n"
     ]
    }
   ],
   "source": [
    "print('Подсчет минимума на отрезке массива с помощью дерева отрезков, \\n ввод индексов диапазона (оба включительно)')\n",
    "array = [1, 3, 2, 5, 4, 6]\n",
    "st = SegmentTree(array)\n",
    "print(st.query_range(1, 5))"
   ]
  },
  {
   "cell_type": "code",
   "execution_count": 31,
   "metadata": {},
   "outputs": [],
   "source": [
    "class FenwickTree:\n",
    "\tdef __init__(self, n):\n",
    "\t\tself.N = n\n",
    "\t\tself.bit = [0]*(n+1)\n",
    "\tdef update(self, i, delta):\n",
    "\t\twhile i <= self.N:\n",
    "\t\t\tself.bit[i] += delta\n",
    "\t\t\ti += i & -i\n",
    "\n",
    "\tdef prefix_sum(self, i):\n",
    "\t\tresult = 0\n",
    "\t\twhile i > 0:\n",
    "\t\t\tresult += self.bit[i]\n",
    "\t\t\ti -= i & -i\n",
    "\t\treturn result\n",
    "\n",
    "\tdef range_sum(self, start, end):\n",
    "\t\treturn self.prefix_sum(end) - self.prefix_sum(start - 1)"
   ]
  },
  {
   "cell_type": "code",
   "execution_count": 32,
   "metadata": {},
   "outputs": [
    {
     "name": "stdout",
     "output_type": "stream",
     "text": [
      "Подсчет суммы на отрезке элементов массива с помощью дерева Фенвика, \n",
      " ввод номеров элементов массива (номерация с 1) (оба включительно)\n",
      "20\n"
     ]
    }
   ],
   "source": [
    "print('Подсчет суммы на отрезке элементов массива с помощью дерева Фенвика, \\n ввод номеров элементов массива (номерация с 1) (оба включительно)')\n",
    "array = [1, 3, 2, 5, 4, 6]\n",
    "n = len(array)\n",
    "fenwick_tree = FenwickTree(n)\n",
    "for i in range(n):\n",
    "    fenwick_tree.update(i + 1, array[i])\n",
    "\n",
    "print(fenwick_tree.range_sum(2, 6))"
   ]
  }
 ],
 "metadata": {
  "kernelspec": {
   "display_name": "Python 3",
   "language": "python",
   "name": "python3"
  },
  "language_info": {
   "codemirror_mode": {
    "name": "ipython",
    "version": 3
   },
   "file_extension": ".py",
   "mimetype": "text/x-python",
   "name": "python",
   "nbconvert_exporter": "python",
   "pygments_lexer": "ipython3",
   "version": "3.12.1"
  }
 },
 "nbformat": 4,
 "nbformat_minor": 2
}
