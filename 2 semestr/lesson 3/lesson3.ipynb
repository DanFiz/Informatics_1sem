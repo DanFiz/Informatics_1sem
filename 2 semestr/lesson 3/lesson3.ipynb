{
 "cells": [
  {
   "cell_type": "code",
   "execution_count": 132,
   "metadata": {},
   "outputs": [],
   "source": [
    "def read_graph_as_edges():\n",
    "    try:\n",
    "        n = int(input())\n",
    "        graph = [list(map(int, input().split())) for i in range(n)]\n",
    "        # for i in range(n):\n",
    "        #     graph.append(list(map(int, input().split())))\n",
    "        return  graph\n",
    "    except ValueError:\n",
    "        print('Вы ввели не то количество ребер графа, что указали')\n",
    "def read_graph_as_neigh_list():\n",
    "    edge_list = read_graph_as_edges()\n",
    "    graph_dict = {} #dict()\n",
    "    vertex_set = set()\n",
    "    for edge in edge_list:\n",
    "        vertex_set.add(edge[0])\n",
    "        vertex_set.add(edge[1])\n",
    "    #V_num = len(vertex_set)\n",
    "    for v in vertex_set:\n",
    "        graph_dict[v] = frozenset()\n",
    "    for edge in edge_list:\n",
    "        graph_dict[edge[0]]= graph_dict[edge[0]] | frozenset([edge[1]])\n",
    "    return graph_dict\n",
    "\n",
    "def read_graph_as_neigh_matrix():\n",
    "    edge_list = read_graph_as_edges()\n",
    "    vertex_set = set()\n",
    "    for edge in edge_list:\n",
    "        vertex_set.add(edge[0])\n",
    "        vertex_set.add(edge[1])\n",
    "    V_num = len(vertex_set)\n",
    "    \n",
    "    res_matrix = [[0 for i in range(V_num)]for j in range(V_num)]\n",
    "    for edge in edge_list:\n",
    "        index_1 = edge[0]-1\n",
    "        index_2 = edge[1]-1\n",
    "        res_matrix[index_1][index_2] = 1\n",
    "    return res_matrix\n",
    "\n",
    "def print_matrix(matrix):\n",
    "    for line in matrix:\n",
    "        print(*line)\n",
    "\n",
    "    "
   ]
  },
  {
   "cell_type": "code",
   "execution_count": 133,
   "metadata": {},
   "outputs": [],
   "source": [
    "def DFS(graph, v, visited=[]):\n",
    "    visited.append(v)\n",
    "    for neigh in graph[v]:\n",
    "        if neigh not in visited:\n",
    "            DFS(graph, neigh, visited)"
   ]
  },
  {
   "cell_type": "code",
   "execution_count": 134,
   "metadata": {},
   "outputs": [],
   "source": [
    "def has_cycle(graph, v, visited = []):\n",
    "    result = False\n",
    "    for neigh in graph[v]:\n",
    "        if neigh in visited:\n",
    "            result = True\n",
    "            return result\n",
    "        \n",
    "        visited.append(v)\n",
    "        \n",
    "        if result == False:\n",
    "            result = has_cycle(graph, neigh, visited)\n",
    "            visited = []\n",
    "    return result\n"
   ]
  },
  {
   "cell_type": "code",
   "execution_count": 135,
   "metadata": {},
   "outputs": [],
   "source": [
    "def DFS_stack(graph, v, visited = []):\n",
    "    stack = []\n",
    "    visited.append(v)\n",
    "    stack.append(v)\n",
    "    while stack:\n",
    "        v = stack.pop()\n",
    "        for neigh in graph[v]:\n",
    "            if neigh not in visited:\n",
    "                visited.append(neigh)\n",
    "                stack.append(neigh)\n",
    "    return visited\n",
    "            \n"
   ]
  },
  {
   "cell_type": "code",
   "execution_count": 136,
   "metadata": {},
   "outputs": [
    {
     "data": {
      "text/plain": [
       "'graph = read_graph_as_neigh_list()\\nprint(DSF_stack(graph, 1))'"
      ]
     },
     "execution_count": 136,
     "metadata": {},
     "output_type": "execute_result"
    }
   ],
   "source": [
    "'''graph = read_graph_as_neigh_list()\n",
    "print(DSF_stack(graph, 1))'''"
   ]
  },
  {
   "cell_type": "code",
   "execution_count": 137,
   "metadata": {},
   "outputs": [],
   "source": [
    "def topologicalSortUtil(graph,v,visited,stack):\n",
    "    visited[v] = True\n",
    "    for i in graph[v]:\n",
    "        if visited[i] == False:\n",
    "            topologicalSortUtil(graph,i,visited,stack)\n",
    "\n",
    "    stack.insert(0,v)\n",
    "\n",
    "def Topological_Sort_Recursion(graph):\n",
    "    visited = [False]*len(graph.keys())\n",
    "    stack =[]\n",
    "    for i in range(len(graph.keys())):\n",
    "        if visited[i] == False:\n",
    "            topologicalSortUtil(graph,i,visited,stack)\n",
    "    return stack\n",
    "  "
   ]
  },
  {
   "cell_type": "code",
   "execution_count": 138,
   "metadata": {},
   "outputs": [],
   "source": [
    "def topologicalSortUtil_Stack(graph,v0,stack):\n",
    "    stack1 = []\n",
    "    stack2 = []\n",
    "    stack1.append(v0)\n",
    "    while stack1:\n",
    "        v = stack1.pop()\n",
    "        if (graph[v] == frozenset()) and (v not in stack2):\n",
    "            stack.append(v)\n",
    "        else:\n",
    "            for neigh in graph[v]:\n",
    "                if (neigh not in stack) and (neigh not in stack2):\n",
    "                    stack2.append(neigh)\n",
    "                    stack1.append(neigh)\n",
    "    while stack2:\n",
    "        stack.insert(0,stack2.pop(-1))\n",
    "    if v0 not in stack:\n",
    "        stack.insert(0, v0)\n",
    "\n",
    "def Topological_Sort_Stack(graph):\n",
    "    stack =[]\n",
    "    for i in graph.keys():\n",
    "        if i not in stack:\n",
    "            topologicalSortUtil_Stack(graph,i, stack)\n",
    "    return stack"
   ]
  },
  {
   "cell_type": "code",
   "execution_count": 139,
   "metadata": {},
   "outputs": [
    {
     "data": {
      "text/plain": [
       "'graph = read_graph_as_neigh_list()\\nprint(Topological_Sort_Stack(graph))'"
      ]
     },
     "execution_count": 139,
     "metadata": {},
     "output_type": "execute_result"
    }
   ],
   "source": [
    "'''graph = read_graph_as_neigh_list()\n",
    "print(Topological_Sort_Stack(graph))'''"
   ]
  },
  {
   "cell_type": "code",
   "execution_count": 140,
   "metadata": {},
   "outputs": [
    {
     "name": "stdout",
     "output_type": "stream",
     "text": [
      "Задание 1. Поиск количества путей.\n",
      "Формат ввода: введите два числа через пробел (из какой в какую вершину попасть), Enter;\n",
      " введите количество ребер в графе, Enter;\n",
      " Далее  вводите ребра по норме через Enter\n",
      "Вы успешно ввели ребра.\n",
      " Соответсвующий список смежности: {0: frozenset(), 1: frozenset({0, 6, 7}), 2: frozenset({1}), 3: frozenset({6}), 4: frozenset({3}), 5: frozenset({2, 4}), 6: frozenset(), 7: frozenset()}\n",
      "Ответ: 2\n"
     ]
    }
   ],
   "source": [
    "def task1(v, u):\n",
    "    print(f'Вы успешно ввели v = {v} и u = {u}.\\n Начинайте вводить количество ребер и сами ребра')\n",
    "    graph = read_graph_as_neigh_list()\n",
    "    for i in graph.keys():\n",
    "        b = has_cycle(graph, i, visited = [])\n",
    "        if b == True:\n",
    "            break\n",
    "    if b == False:\n",
    "        print(f'Вы успешно ввели ребра.\\n Соответсвующий список смежности: {graph}')\n",
    "        if (v in graph.keys()) and (u in graph.keys()):\n",
    "            TS_graph = Topological_Sort_Stack(graph)\n",
    "            i = 0\n",
    "            k = 0\n",
    "            i1 = TS_graph.index(v)\n",
    "            i2 = TS_graph.index(u)\n",
    "            if i2 > i1:\n",
    "                stack = []\n",
    "                stack.append(TS_graph[i1])\n",
    "                while stack:\n",
    "                    V = stack.pop()\n",
    "                    for neigh in graph[V]:\n",
    "                        if (TS_graph.index(neigh) > i1) and (TS_graph.index(neigh) < i2):\n",
    "                            stack.append(neigh)\n",
    "                        elif TS_graph.index(neigh) == i2:\n",
    "                            k += 1\n",
    "            return k\n",
    "        else:\n",
    "            raise Exception('Хотя бы одного из этих элементов нет в графе')\n",
    "    else:\n",
    "        raise Exception('Вы дали циклический граф, а нужно было ациклический')\n",
    "print('Задание 1. Поиск количества путей.')\n",
    "print('Формат ввода: введите два числа через пробел (из какой в какую вершину попасть), Enter;\\n введите количество ребер в графе, Enter;\\n Далее  вводите ребра по норме через Enter')\n",
    "v, u = map(int, input().split())\n",
    "print(f'Ответ: {task1(v, u)}')"
   ]
  },
  {
   "cell_type": "code",
   "execution_count": 141,
   "metadata": {},
   "outputs": [],
   "source": [
    "def DFS_T2(graph,  v, vis_dict = dict()):\n",
    "    vis_dict[v] = graph[v]\n",
    "    for neigh in graph[v]:\n",
    "        DFS_T2(graph, neigh, vis_dict)\n",
    "        vis_dict[v] = vis_dict[v] | vis_dict[neigh]\n",
    "def DFS_T2_Sort(graph):\n",
    "    vis_dict = dict()\n",
    "    for i in graph.keys():\n",
    "        if i not in vis_dict.keys():\n",
    "            DFS_T2(graph,  i, vis_dict)\n",
    "    return vis_dict\n"
   ]
  },
  {
   "cell_type": "code",
   "execution_count": 142,
   "metadata": {},
   "outputs": [
    {
     "data": {
      "text/plain": [
       "'graph = read_graph_as_neigh_list()\\nprint(DFS_T2_Sort(graph))'"
      ]
     },
     "execution_count": 142,
     "metadata": {},
     "output_type": "execute_result"
    }
   ],
   "source": [
    "'''graph = read_graph_as_neigh_list()\n",
    "print(DFS_T2_Sort(graph))'''"
   ]
  },
  {
   "cell_type": "code",
   "execution_count": 143,
   "metadata": {},
   "outputs": [
    {
     "name": "stdout",
     "output_type": "stream",
     "text": [
      "Задание 2. Ответ на q запросов \"является ли вершина v предком вершине u\".\n",
      "Формат ввода: введите количество ребер n в графе, Enter;\n",
      " Далее  вводите ребра по норме через Enter (будьте внимательны: следите за их количеством!);\n",
      " Enter;\n",
      " введите количество запросов q;\n",
      " Enter;\n",
      "  введите свои запросы через Enter (по 2 числа v и u через пробел)\n",
      "Вы успешно ввели ребра.\n",
      " Соответсвующий список смежности: {0: frozenset(), 1: frozenset({0, 6, 7}), 2: frozenset({1}), 3: frozenset({6}), 4: frozenset({3}), 5: frozenset({2, 4}), 6: frozenset(), 7: frozenset()}\n",
      "Вы успешно ввели свои запросы.\n",
      " Соответсвующий список запросов: [[1, 2], [2, 1]]\n",
      "Ответ: {'1 to 2': False, '2 to 1': True}\n"
     ]
    }
   ],
   "source": [
    "def task2():\n",
    "    graph = read_graph_as_neigh_list()\n",
    "    for i in graph.keys():\n",
    "        b = has_cycle(graph, i, visited = [])\n",
    "        if b == True:\n",
    "            break\n",
    "    if b == False:\n",
    "        graph_sort = DFS_T2_Sort(graph)\n",
    "        print(f'Вы успешно ввели ребра.\\n Соответсвующий список смежности: {graph};\\n Начинайте вводить q и запросы')\n",
    "        q = int(input())\n",
    "        q_arr = [list(map(int, input().split())) for i in range(q)]\n",
    "        print(f'Вы успешно ввели свои запросы.\\n Соответсвующий список запросов: {q_arr}')\n",
    "        answer = dict()\n",
    "        for vertex_list in q_arr:\n",
    "            st = str(vertex_list[0]) + ' to ' + str(vertex_list[1])\n",
    "            if vertex_list[1] in graph_sort[vertex_list[0]]:\n",
    "                answer[st] = True\n",
    "            else:\n",
    "                answer[st] = False\n",
    "        return answer\n",
    "    else:\n",
    "        raise Exception('Вы дали циклический граф, а нужно было ациклический')\n",
    "print('Задание 2. Ответ на q запросов \"является ли вершина v предком вершине u\".')\n",
    "print('Формат ввода: введите количество ребер n в графе, Enter;\\n Далее  вводите ребра по норме через Enter (будьте внимательны: следите за их количеством!);\\n введите количество запросов q, Enter;\\n  введите свои запросы через Enter (по 2 числа v и u через пробел)')\n",
    "print(f'Ответ: {task2()}')"
   ]
  }
 ],
 "metadata": {
  "kernelspec": {
   "display_name": "Python 3",
   "language": "python",
   "name": "python3"
  },
  "language_info": {
   "codemirror_mode": {
    "name": "ipython",
    "version": 3
   },
   "file_extension": ".py",
   "mimetype": "text/x-python",
   "name": "python",
   "nbconvert_exporter": "python",
   "pygments_lexer": "ipython3",
   "version": "3.12.1"
  }
 },
 "nbformat": 4,
 "nbformat_minor": 2
}
