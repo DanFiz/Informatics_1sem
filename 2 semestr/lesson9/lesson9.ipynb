{
 "cells": [
  {
   "cell_type": "code",
   "execution_count": 12,
   "metadata": {},
   "outputs": [
    {
     "data": {
      "text/plain": [
       "[0, 0, 1, 2, 3, 4, 5]"
      ]
     },
     "execution_count": 12,
     "metadata": {},
     "output_type": "execute_result"
    }
   ],
   "source": [
    "'abababa'\n",
    "[0,0,1,2,3,4,5]"
   ]
  },
  {
   "cell_type": "code",
   "execution_count": 13,
   "metadata": {},
   "outputs": [],
   "source": [
    "def prefix_fun(s):\n",
    "    l = len(s)\n",
    "    P = [0 for i in range(l)]\n",
    "    for i in range(1, len(s)):\n",
    "        sup = P[i-1]\n",
    "        while sup > 0 and s[sup] != s[i]:\n",
    "            sup = P[sup - 1]\n",
    "        if s[sup] == s[i]:\n",
    "            sup += 1\n",
    "        P[i] = sup\n",
    "    return P\n",
    "\n",
    "def Z_fun(s):\n",
    "    ln = len(s)\n",
    "    z = [0 for i in range(ln)]\n",
    "    l = 0\n",
    "    r = 0\n",
    "    for i in range(1, len(s)):\n",
    "\n",
    "        z[i] = max(0, min(r-i, z[i - l]))\n",
    "        while i + z[i] < ln and s[z[i]] == s[i + z[i]]:\n",
    "            z[i] += 1\n",
    "        if i + z[i] > r:\n",
    "            l = i\n",
    "            r = i + z[i]\n",
    "        if 1 + z[i] > ln:\n",
    "            r = ln\n",
    "        \n",
    "    return z"
   ]
  },
  {
   "cell_type": "code",
   "execution_count": 14,
   "metadata": {},
   "outputs": [
    {
     "name": "stdout",
     "output_type": "stream",
     "text": [
      "[0, 0, 1, 2, 3, 4, 5]\n",
      "[0, 0, 5, 0, 3, 0, 1]\n"
     ]
    }
   ],
   "source": [
    "st = 'abababa'\n",
    "print(prefix_fun(st))\n",
    "print(Z_fun(st))\n",
    "\n",
    "\n"
   ]
  },
  {
   "cell_type": "code",
   "execution_count": 15,
   "metadata": {},
   "outputs": [],
   "source": [
    "class node:\n",
    "    def __init__(self, ch, parent = None):\n",
    "        if parent is not None:\n",
    "            self.s = parent.s + ch\n",
    "        else:\n",
    "            self.s = ''\n",
    "        self.children = {}\n",
    "    def make_edge(self, ch):\n",
    "        if ch not in self.children.keys():\n",
    "            self.children[ch] = node(ch, self)\n",
    "            return True\n",
    "        else:\n",
    "            return False\n",
    "    def __repr__(self):\n",
    "        return self.s\n"
   ]
  },
  {
   "cell_type": "code",
   "execution_count": 16,
   "metadata": {},
   "outputs": [],
   "source": [
    "s = ['he', 'his', 'hers', 'she']\n",
    "\n",
    "root = node('')\n",
    "vertices = [root]\n",
    "stand = root\n",
    "for word in s:\n",
    "    for ch in word:\n",
    "        new = stand.make_edge(ch)\n",
    "        stand = stand.children[ch]\n",
    "        if new:\n",
    "            vertices.append(stand)\n",
    "    stand = root"
   ]
  },
  {
   "cell_type": "code",
   "execution_count": 17,
   "metadata": {},
   "outputs": [
    {
     "name": "stdout",
     "output_type": "stream",
     "text": [
      "[, h, he, hi, his, her, hers, s, sh, she]\n"
     ]
    }
   ],
   "source": [
    "print(vertices)"
   ]
  }
 ],
 "metadata": {
  "kernelspec": {
   "display_name": "Python 3",
   "language": "python",
   "name": "python3"
  },
  "language_info": {
   "codemirror_mode": {
    "name": "ipython",
    "version": 3
   },
   "file_extension": ".py",
   "mimetype": "text/x-python",
   "name": "python",
   "nbconvert_exporter": "python",
   "pygments_lexer": "ipython3",
   "version": "3.12.1"
  }
 },
 "nbformat": 4,
 "nbformat_minor": 2
}
