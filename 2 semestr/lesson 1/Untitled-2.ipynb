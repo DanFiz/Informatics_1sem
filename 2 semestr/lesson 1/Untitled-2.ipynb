{
 "cells": [
  {
   "cell_type": "code",
   "execution_count": 2,
   "metadata": {},
   "outputs": [
    {
     "ename": "ValueError",
     "evalue": "invalid literal for int() with base 10: '--f=c:\\\\Users\\\\user\\\\AppData\\\\Roaming\\\\jupyter\\\\runtime\\\\kernel-v2-1888QpWhkTkHMtPQ.json'",
     "output_type": "error",
     "traceback": [
      "\u001b[1;31m---------------------------------------------------------------------------\u001b[0m",
      "\u001b[1;31mValueError\u001b[0m                                Traceback (most recent call last)",
      "Cell \u001b[1;32mIn[2], line 19\u001b[0m\n\u001b[0;32m     16\u001b[0m             \u001b[38;5;28;01mif\u001b[39;00m finded:\n\u001b[0;32m     17\u001b[0m                 \u001b[38;5;28;01mreturn\u001b[39;00m words\n\u001b[1;32m---> 19\u001b[0m log_name \u001b[38;5;241m=\u001b[39m \u001b[38;5;28;43mint\u001b[39;49m\u001b[43m(\u001b[49m\u001b[43msys\u001b[49m\u001b[38;5;241;43m.\u001b[39;49m\u001b[43margv\u001b[49m\u001b[43m[\u001b[49m\u001b[38;5;241;43m1\u001b[39;49m\u001b[43m]\u001b[49m\u001b[43m)\u001b[49m\n\u001b[0;32m     22\u001b[0m data \u001b[38;5;241m=\u001b[39m read_log(\u001b[38;5;124m'\u001b[39m\u001b[38;5;124mgraphene_all_3351000..log\u001b[39m\u001b[38;5;124m'\u001b[39m)\n\u001b[0;32m     24\u001b[0m \u001b[38;5;28mprint\u001b[39m(data)\n",
      "\u001b[1;31mValueError\u001b[0m: invalid literal for int() with base 10: '--f=c:\\\\Users\\\\user\\\\AppData\\\\Roaming\\\\jupyter\\\\runtime\\\\kernel-v2-1888QpWhkTkHMtPQ.json'"
     ]
    }
   ],
   "source": [
    "import os\n",
    "import sys\n",
    "def read_log(filename) -> list: #graphene_all_3351000..log\n",
    "    with open(f'./Sem1_dimers_data/{filename}', 'r') as file:\n",
    "        finded = False\n",
    "        lines = file.readlines()\n",
    "        #print(lines)\n",
    "        for line in lines:\n",
    "            words = line.split()\n",
    "            if len(words) > 1:\n",
    "                if words[0] == 'Atoms' and words[1] == 'Step':\n",
    "                    finded = True\n",
    "                    continue\n",
    "            else:\n",
    "                continue\n",
    "            if finded:\n",
    "                return words\n",
    "\n",
    "log_name = int(sys.argv[1])\n",
    "\n",
    "\n",
    "data = read_log('graphene_all_3351000..log')\n",
    "\n",
    "print(data)"
   ]
  },
  {
   "cell_type": "code",
   "execution_count": null,
   "metadata": {},
   "outputs": [],
   "source": []
  }
 ],
 "metadata": {
  "kernelspec": {
   "display_name": "Python 3",
   "language": "python",
   "name": "python3"
  },
  "language_info": {
   "codemirror_mode": {
    "name": "ipython",
    "version": 3
   },
   "file_extension": ".py",
   "mimetype": "text/x-python",
   "name": "python",
   "nbconvert_exporter": "python",
   "pygments_lexer": "ipython3",
   "version": "3.12.1"
  }
 },
 "nbformat": 4,
 "nbformat_minor": 2
}
